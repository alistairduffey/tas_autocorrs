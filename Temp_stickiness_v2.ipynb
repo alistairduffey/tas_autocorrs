{
 "cells": [
  {
   "cell_type": "code",
   "execution_count": 1,
   "id": "9072f8e6-ec52-4b34-8983-db0ee051adcd",
   "metadata": {},
   "outputs": [],
   "source": [
    "#import iris\n",
    "#import Utils.iris_utils as iris_utils\n",
    "import pandas as pd\n",
    "import numpy as np\n",
    "import os\n",
    "import logging\n",
    "import esmvalcore.preprocessor\n",
    "import glob\n",
    "import warnings\n",
    "#warnings.filterwarnings(\"ignore\")\n",
    "import xarray as xr\n",
    "from xmip.preprocessing import rename_cmip6\n",
    "import matplotlib.pyplot as plt\n",
    "from tqdm import tqdm\n",
    "import dask\n",
    "import statsmodels.api as sm\n"
   ]
  },
  {
   "cell_type": "markdown",
   "id": "96f384eb-a8ab-4811-9364-8578b2f19f3f",
   "metadata": {},
   "source": [
    "## Plan\n",
    "1. linearly detrend all 3 data sets\n",
    "2. seasonally detrend all 3 data sets\n",
    "3. calculate grid-point temporal autocorrelation "
   ]
  },
  {
   "cell_type": "code",
   "execution_count": 2,
   "id": "7025b6ab-ca68-4b6f-a4d8-d603a198b54f",
   "metadata": {},
   "outputs": [],
   "source": [
    "\n",
    "def read_in(dir, t_bnds=None, lat_bnds=None, months=None, last_years=None):\n",
    "    files = []\n",
    "    for x in os.listdir(dir): \n",
    "        files.append(dir + x)\n",
    "    #with dask.config.set(**{'array.slicing.split_large_chunks': True}):\n",
    "    #    ds = rename_cmip6(xr.open_mfdataset(files, parallel=True, chunks={\"time\": 50}))\n",
    "    ds = rename_cmip6(xr.open_mfdataset(files))\n",
    "    if t_bnds:\n",
    "        ds = ds.sel(time=slice(t_bnds[0], t_bnds[1]))\n",
    "    if months:\n",
    "        ds = ds.where((ds['time.month'].isin(months)), drop=True)\n",
    "    if lat_bnds:\n",
    "        ds = ds.sel(y=slice(lat_bnds[0],lat_bnds[1]))\n",
    "    if last_years:\n",
    "        ds = ds.isel(time=slice(-365*last_years,-1))\n",
    "    \n",
    "    #print(dir, ds['time.year'].min().values) #check that only selecting specific time files has worked ok\n",
    "    return ds\n",
    "\n",
    "\n",
    "def remove_seasonal_trend(ds):\n",
    "    return ds.groupby('time.dayofyear') - ds.groupby('time.dayofyear').mean('time')\n",
    "\n",
    "def remove_linear_trend(ds):\n",
    "    \n",
    "    data_detrended = ds.apply(detrend)\n",
    "    \n",
    "    out = ds\n",
    "    return out\n",
    "\n",
    "# Function to detrend\n",
    "# Source: https://gist.github.com/rabernat/1ea82bb067c3273a6166d1b1f77d490f\n",
    "def detrend_dim(ds, dim='time', deg=1, var='tas'):\n",
    "    \"\"\"detrend along a single dimension.\"\"\"\n",
    "    # calculate polynomial coefficients\n",
    "    da = ds[var]\n",
    "    p = da.polyfit(dim=dim, deg=deg, skipna=False)\n",
    "    # evaluate trend\n",
    "    fit = xr.polyval(da[dim], p.polyfit_coefficients)\n",
    "    out = da-fit\n",
    "    # remove the trend\n",
    "    return out.to_dataset(name=var)\n"
   ]
  },
  {
   "cell_type": "code",
   "execution_count": 4,
   "id": "475535ff-bf1d-44ca-975f-4d84e92b08d5",
   "metadata": {},
   "outputs": [
    {
     "data": {
      "text/plain": [
       "['.fileset_info.json',\n",
       " '.ftpaccess',\n",
       " '00README_catalogue_and_licence.txt',\n",
       " 'r1i1p1f2']"
      ]
     },
     "execution_count": 4,
     "metadata": {},
     "output_type": "execute_result"
    }
   ],
   "source": [
    "os.listdir('/badc/cmip6/data/CMIP6/CMIP/MOHC/UKESM1-0-LL/piControl/')"
   ]
  },
  {
   "cell_type": "code",
   "execution_count": 20,
   "id": "1a36060e-8300-4114-bf8e-078dc7bb1b96",
   "metadata": {},
   "outputs": [],
   "source": [
    "control_path = '/badc/cmip6/data/CMIP6/CMIP/MOHC/UKESM1-0-LL/piControl/r1i1p1f2/day/tas/gn/latest/'\n",
    "G1_path_1 = '/badc/cmip6/data/CMIP6/GeoMIP/MOHC/UKESM1-0-LL/G1/r1i1p1f2/day/tas/gn/latest/'\n",
    "G1_path_2 = '/badc/cmip6/data/CMIP6/GeoMIP/MOHC/UKESM1-0-LL/G1/r2i2p1f2/day/tas/gn/latest/'\n",
    "G1_path_3 = '/badc/cmip6/data/CMIP6/GeoMIP/MOHC/UKESM1-0-LL/G1/r3i2p1f2/day/tas/gn/latest/'\n",
    "CO2_4x_path = '/badc/cmip6/data/CMIP6/CMIP/MOHC/UKESM1-0-LL/abrupt-4xCO2/r1i1p1f2/day/tas/gn/latest/'"
   ]
  },
  {
   "cell_type": "code",
   "execution_count": 21,
   "id": "b48184cd-ac5c-4ece-b656-aa9fd6281d82",
   "metadata": {},
   "outputs": [
    {
     "name": "stderr",
     "output_type": "stream",
     "text": [
      "/home/users/a_duffey/.conda/envs/main/lib/python3.10/site-packages/xarray/core/indexing.py:1228: PerformanceWarning: Slicing with an out-of-order index is generating 11 times more chunks\n",
      "  return self.array[key]\n",
      "/home/users/a_duffey/.conda/envs/main/lib/python3.10/site-packages/xarray/core/indexing.py:1228: PerformanceWarning: Slicing with an out-of-order index is generating 11 times more chunks\n",
      "  return self.array[key]\n",
      "/home/users/a_duffey/.conda/envs/main/lib/python3.10/site-packages/xarray/core/indexing.py:1228: PerformanceWarning: Slicing with an out-of-order index is generating 11 times more chunks\n",
      "  return self.array[key]\n",
      "/home/users/a_duffey/.conda/envs/main/lib/python3.10/site-packages/xarray/core/indexing.py:1228: PerformanceWarning: Slicing with an out-of-order index is generating 11 times more chunks\n",
      "  return self.array[key]\n",
      "/home/users/a_duffey/.conda/envs/main/lib/python3.10/site-packages/xarray/core/indexing.py:1228: PerformanceWarning: Slicing with an out-of-order index is generating 11 times more chunks\n",
      "  return self.array[key]\n",
      "/home/users/a_duffey/.conda/envs/main/lib/python3.10/site-packages/xarray/core/indexing.py:1228: PerformanceWarning: Slicing with an out-of-order index is generating 11 times more chunks\n",
      "  return self.array[key]\n",
      "/home/users/a_duffey/.conda/envs/main/lib/python3.10/site-packages/xarray/core/indexing.py:1228: PerformanceWarning: Slicing with an out-of-order index is generating 11 times more chunks\n",
      "  return self.array[key]\n",
      "/home/users/a_duffey/.conda/envs/main/lib/python3.10/site-packages/xarray/core/indexing.py:1228: PerformanceWarning: Slicing with an out-of-order index is generating 11 times more chunks\n",
      "  return self.array[key]\n",
      "/home/users/a_duffey/.conda/envs/main/lib/python3.10/site-packages/xarray/core/indexing.py:1228: PerformanceWarning: Slicing with an out-of-order index is generating 11 times more chunks\n",
      "  return self.array[key]\n",
      "/home/users/a_duffey/.conda/envs/main/lib/python3.10/site-packages/xarray/core/indexing.py:1228: PerformanceWarning: Slicing with an out-of-order index is generating 11 times more chunks\n",
      "  return self.array[key]\n",
      "/home/users/a_duffey/.conda/envs/main/lib/python3.10/site-packages/xarray/core/indexing.py:1228: PerformanceWarning: Slicing with an out-of-order index is generating 11 times more chunks\n",
      "  return self.array[key]\n",
      "/home/users/a_duffey/.conda/envs/main/lib/python3.10/site-packages/xarray/core/indexing.py:1228: PerformanceWarning: Slicing with an out-of-order index is generating 11 times more chunks\n",
      "  return self.array[key]\n"
     ]
    }
   ],
   "source": [
    "lat_bs, nyears = [-10, 10], 10\n",
    "\n",
    "# read in, remove seasonal trend, and remove linear trend\n",
    "control = detrend_dim(remove_seasonal_trend(read_in(control_path, lat_bnds = lat_bs, last_years=nyears)))\n",
    "\n",
    "G1_1 = detrend_dim(remove_seasonal_trend(read_in(G1_path_1, lat_bnds = lat_bs, last_years=nyears)))\n",
    "G1_2 = detrend_dim(remove_seasonal_trend(read_in(G1_path_2, lat_bnds = lat_bs, last_years=nyears)))\n",
    "G1_3 = detrend_dim(remove_seasonal_trend(read_in(G1_path_3, lat_bnds = lat_bs, last_years=nyears)))\n",
    "\n",
    "CO2_4x = detrend_dim(remove_seasonal_trend(read_in(CO2_4x_path, lat_bnds = lat_bs, last_years=nyears)))\n"
   ]
  },
  {
   "cell_type": "code",
   "execution_count": null,
   "id": "ee2f4755-589a-48be-8fa9-c1e162ffa687",
   "metadata": {},
   "outputs": [],
   "source": []
  },
  {
   "cell_type": "code",
   "execution_count": 152,
   "id": "99654aaf-5494-4437-9348-0f28a805376b",
   "metadata": {},
   "outputs": [
    {
     "name": "stdout",
     "output_type": "stream",
     "text": [
      "3649\n"
     ]
    },
    {
     "data": {
      "text/plain": [
       "Text(0, 0.5, 'r')"
      ]
     },
     "execution_count": 152,
     "metadata": {},
     "output_type": "execute_result"
    },
    {
     "data": {
      "image/png": "[encoded data removed]",
      "text/plain": [
       "<Figure size 432x288 with 1 Axes>"
      ]
     },
     "metadata": {
      "needs_background": "light"
     },
     "output_type": "display_data"
    }
   ],
   "source": [
    "### test for one grid point\n",
    "i, j = 0, 0\n",
    "ts = control.isel(x=i, y=j).tas.values\n",
    "\n",
    "print(len(ts))\n",
    "\n",
    "# Delay (lag) range that we are interesting in\n",
    "lags = np.arange(0, 51, 1)\n",
    "acorr = sm.tsa.acf(ts, nlags = len(lags)-1)\n",
    "plt.plot(acorr)\n",
    "plt.xlabel('lag (days)')\n",
    "plt.ylabel('r')"
   ]
  },
  {
   "cell_type": "code",
   "execution_count": null,
   "id": "41c34c25-2b50-4626-9c0c-9b8d50368529",
   "metadata": {},
   "outputs": [],
   "source": []
  },
  {
   "cell_type": "code",
   "execution_count": 22,
   "id": "d85a5703-cd5f-4965-a25e-988b1ce62243",
   "metadata": {},
   "outputs": [
    {
     "name": "stderr",
     "output_type": "stream",
     "text": [
      "100%|██████████| 192/192 [00:24<00:00,  7.79it/s]\n"
     ]
    },
    {
     "name": "stdout",
     "output_type": "stream",
     "text": [
      "piControl  done\n"
     ]
    },
    {
     "name": "stderr",
     "output_type": "stream",
     "text": [
      "100%|██████████| 192/192 [00:53<00:00,  3.60it/s]\n"
     ]
    },
    {
     "name": "stdout",
     "output_type": "stream",
     "text": [
      "G1_1  done\n"
     ]
    },
    {
     "name": "stderr",
     "output_type": "stream",
     "text": [
      "100%|██████████| 192/192 [01:23<00:00,  2.30it/s]\n"
     ]
    },
    {
     "name": "stdout",
     "output_type": "stream",
     "text": [
      "G1_2  done\n"
     ]
    },
    {
     "name": "stderr",
     "output_type": "stream",
     "text": [
      "100%|██████████| 192/192 [01:53<00:00,  1.69it/s]\n"
     ]
    },
    {
     "name": "stdout",
     "output_type": "stream",
     "text": [
      "G1_3  done\n"
     ]
    },
    {
     "name": "stderr",
     "output_type": "stream",
     "text": [
      "100%|██████████| 192/192 [02:17<00:00,  1.39it/s]\n"
     ]
    },
    {
     "name": "stdout",
     "output_type": "stream",
     "text": [
      "abrupt-4xCO2  done\n"
     ]
    }
   ],
   "source": [
    "lags = np.arange(0, 51, 1)\n",
    "\n",
    "\n",
    "DF = pd.DataFrame(columns=['lag', 'acorr', 'lon', 'lat', 'scenario'])\n",
    "Scenarios =['piControl', 'G1_1', 'G1_2', 'G1_3', 'abrupt-4xCO2']\n",
    "s=0\n",
    "for ds in [control, G1_1, G1_2, G1_3, CO2_4x]:\n",
    "    ds.load()\n",
    "    lons, lats = ds.x.values, ds.y.values\n",
    "    iter=0\n",
    "    for lon in tqdm(lons):\n",
    "        for lat in lats:\n",
    "            ts = ds.sel(x=lon, y=lat).tas.values\n",
    "            acorr = sm.tsa.acf(ts, nlags = len(lags)-1)\n",
    "            df = pd.DataFrame({'lag': lags,\n",
    "                               'acorr': acorr})\n",
    "            df['lon'] = lon\n",
    "            df['lat'] = lat\n",
    "            df['iter'] = iter\n",
    "            df['scenario'] = Scenarios[s]\n",
    "            DF = pd.concat([DF, df])\n",
    "            iter=iter+1\n",
    "    print(Scenarios[s], ' done')\n",
    "    s=s+1\n",
    "    ds.close()\n",
    "\n",
    "DF.to_csv('autocorrelations_{lat1}_{lat2}_{t}.csv'.format(\n",
    "            lat1=str(lat_bs[0]), lat2=str(lat_bs[1]), t=nyears))"
   ]
  },
  {
   "cell_type": "code",
   "execution_count": 14,
   "id": "eadc5d8e-78c1-44e4-b813-a0a0ccbfce11",
   "metadata": {},
   "outputs": [],
   "source": []
  },
  {
   "cell_type": "code",
   "execution_count": 13,
   "id": "d97b1f58-f7a1-4dc8-b388-48b79d9a0bc7",
   "metadata": {},
   "outputs": [],
   "source": []
  },
  {
   "cell_type": "code",
   "execution_count": null,
   "id": "e6a87df6-024a-43c2-92a5-38501c5e94ac",
   "metadata": {},
   "outputs": [],
   "source": [
    "DF[DF['scenario']=='G1']"
   ]
  },
  {
   "cell_type": "code",
   "execution_count": null,
   "id": "9f1d836f-ff78-46e2-bf67-2e8261e6af5f",
   "metadata": {},
   "outputs": [],
   "source": [
    "DF_g = DF.groupby(['lag', 'scenario'])['acorr'].mean().reset_index()"
   ]
  },
  {
   "cell_type": "code",
   "execution_count": null,
   "id": "5747ac41-543b-414f-802b-b92f205b2a2c",
   "metadata": {},
   "outputs": [],
   "source": [
    "DF_g"
   ]
  },
  {
   "cell_type": "code",
   "execution_count": 6,
   "id": "9df3de31-8fb0-4317-aca0-16417116f41c",
   "metadata": {},
   "outputs": [],
   "source": []
  },
  {
   "cell_type": "code",
   "execution_count": 7,
   "id": "77f448ab-9703-4511-839c-cd1a5694c4c9",
   "metadata": {},
   "outputs": [
    {
     "data": {
      "image/png": "[encoded data removed]",
      "text/plain": [
       "<Figure size 432x288 with 1 Axes>"
      ]
     },
     "metadata": {
      "needs_background": "light"
     },
     "output_type": "display_data"
    }
   ],
   "source": [
    "DF = pd.read_csv('autocorrelations.csv')\n",
    "Scenarios =['piControl', 'G1', 'abrupt-4xCO2']\n",
    "DF_g = DF.groupby(['lag', 'scenario'])['acorr'].mean().reset_index()\n",
    "for s in Scenarios:\n",
    "    DF_plot = DF_g[DF_g['scenario']==s]\n",
    "    plt.plot(DF_plot['lag'], DF_plot['acorr'], label=s)\n",
    "\n",
    "plt.legend()\n",
    "plt.savefig('main_out.png', dpi=300)"
   ]
  },
  {
   "cell_type": "code",
   "execution_count": null,
   "id": "84531292-1814-451e-b62f-91a539181e76",
   "metadata": {},
   "outputs": [],
   "source": []
  },
  {
   "cell_type": "code",
   "execution_count": null,
   "id": "b11c0954-9ea9-427b-b476-0f2a8cb4f611",
   "metadata": {},
   "outputs": [],
   "source": []
  },
  {
   "cell_type": "code",
   "execution_count": null,
   "id": "613c9cb6-e0f9-4a38-a1d7-737a647c5c35",
   "metadata": {},
   "outputs": [],
   "source": []
  }
 ],
 "metadata": {
  "kernelspec": {
   "display_name": "main",
   "language": "python",
   "name": "main"
  },
  "language_info": {
   "codemirror_mode": {
    "name": "ipython",
    "version": 3
   },
   "file_extension": ".py",
   "mimetype": "text/x-python",
   "name": "python",
   "nbconvert_exporter": "python",
   "pygments_lexer": "ipython3",
   "version": "3.10.5"
  }
 },
 "nbformat": 4,
 "nbformat_minor": 5
}
